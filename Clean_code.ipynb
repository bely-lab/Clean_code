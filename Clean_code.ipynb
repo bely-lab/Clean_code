{
 "cells": [
  {
   "cell_type": "code",
   "execution_count": 34,
   "id": "f2fcff1c-eb36-40e8-8915-12483bad8efc",
   "metadata": {},
   "outputs": [
    {
     "name": "stdout",
     "output_type": "stream",
     "text": [
      "R1:  65\n",
      "R2:  10\n",
      "Output:  30\n",
      "Output:  16\n"
     ]
    }
   ],
   "source": [
    "#Instead of such if else we can do the following way\n",
    "def do_something(operation,x,y):  \n",
    "    operations = {\n",
    "        \"mul\": lambda a, b: a * b,\n",
    "        \"add\": lambda a, b: a + b,\n",
    "        \"sub\": lambda a, b: a - b,\n",
    "    }\n",
    "    return(operations[operation](x,y))\n",
    "a1,b1,c1 = 5,10,15\n",
    "a2,b2,c2 = 2,3,4\n",
    "\n",
    "result1 = do_something( \"add\",do_something('mul',a1,b1),c1) # we cann call our function instaed of just add and multiply\n",
    "result2 =   do_something( \"add\",do_something('mul',a2,b2),c2)\n",
    "\n",
    "print(\"R1: \",result1)\n",
    "print(\"R2: \",result2)\n",
    "\n",
    "x = \"add\"\n",
    "y = 10\n",
    "z = 20\n",
    "print(\"Output: \",do_something(x,y,z))\n",
    "\n",
    "x = \"mul\"\n",
    "y = 2\n",
    "z = 8\n",
    "print(\"Output: \",do_something(x,y,z))"
   ]
  },
  {
   "cell_type": "code",
   "execution_count": 15,
   "id": "3d54500c-3bb8-4a3d-b498-3bfffaf5b95b",
   "metadata": {},
   "outputs": [
    {
     "name": "stdout",
     "output_type": "stream",
     "text": [
      "6.0\n"
     ]
    },
    {
     "data": {
      "text/plain": [
       "2.0"
      ]
     },
     "execution_count": 15,
     "metadata": {},
     "output_type": "execute_result"
    }
   ],
   "source": [
    "# here I make it in separate cell and instead of listing arguments use *args\n",
    "def avg(*args):\n",
    "    average=sum(args)/len(args)\n",
    "    return average\n",
    "\n",
    "print(avg(5,6,7))\n",
    "avg(1,2,3)\n",
    "\n"
   ]
  }
 ],
 "metadata": {
  "kernelspec": {
   "display_name": "Python 3 (ipykernel)",
   "language": "python",
   "name": "python3"
  },
  "language_info": {
   "codemirror_mode": {
    "name": "ipython",
    "version": 3
   },
   "file_extension": ".py",
   "mimetype": "text/x-python",
   "name": "python",
   "nbconvert_exporter": "python",
   "pygments_lexer": "ipython3",
   "version": "3.12.5"
  }
 },
 "nbformat": 4,
 "nbformat_minor": 5
}
