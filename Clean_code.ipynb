{
 "cells": [
  {
   "cell_type": "code",
   "execution_count": 3,
   "id": "76811e0e-54a2-4d0d-b2f4-27593b6c87fe",
   "metadata": {},
   "outputs": [
    {
     "name": "stdout",
     "output_type": "stream",
     "text": [
      "R1:  65\n",
      "R2:  10\n"
     ]
    }
   ],
   "source": [
    "def do_mul(x,y):\n",
    "    return(x*y)\n",
    "def do_add(x,y):\n",
    "    return(x+y)\n",
    "def do_sub(x,y):\n",
    "    return(x-y)\n",
    "a1,b1,c1 = 5,10,15\n",
    "\n",
    "\n",
    "a2 = 2\n",
    "b2 = 3\n",
    "c2 = 4\n",
    "\n",
    "result1 = do_add(do_mul(a1, b1), c1)\n",
    "result2 = do_add(do_mul(a2, b2), c2)\n",
    "\n",
    "print(\"R1: \",result1)\n",
    "print(\"R2: \",result2)\n"
   ]
  },
  {
   "cell_type": "code",
   "execution_count": 10,
   "id": "3d54500c-3bb8-4a3d-b498-3bfffaf5b95b",
   "metadata": {},
   "outputs": [
    {
     "name": "stdout",
     "output_type": "stream",
     "text": [
      "None\n"
     ]
    }
   ],
   "source": [
    "\n",
    "def AVG(a,b,c):\n",
    "    avg = (a+b+c)/3\n",
    "    print(avg)\n",
    "\n",
    "def avg(*args):\n",
    "    averagre=sum(args)/len(args)\n",
    "\n",
    "print(avg(5,6,7)\n",
    "avg(1,2,3)\n",
    "\n"
   ]
  },
  {
   "cell_type": "code",
   "execution_count": null,
   "id": "41a06304-0be7-4536-b40c-74fdc4297279",
   "metadata": {},
   "outputs": [],
   "source": []
  }
 ],
 "metadata": {
  "kernelspec": {
   "display_name": "Python 3 (ipykernel)",
   "language": "python",
   "name": "python3"
  },
  "language_info": {
   "codemirror_mode": {
    "name": "ipython",
    "version": 3
   },
   "file_extension": ".py",
   "mimetype": "text/x-python",
   "name": "python",
   "nbconvert_exporter": "python",
   "pygments_lexer": "ipython3",
   "version": "3.12.5"
  }
 },
 "nbformat": 4,
 "nbformat_minor": 5
}
